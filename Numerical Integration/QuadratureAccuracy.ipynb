{
 "cells": [
  {
   "cell_type": "code",
   "execution_count": 2,
   "metadata": {},
   "outputs": [
    {
     "data": {
      "text/plain": [
       "0.5"
      ]
     },
     "execution_count": 2,
     "metadata": {},
     "output_type": "execute_result"
    }
   ],
   "source": [
    "import numpy as np\n",
    "def QR(f, xq, wq):\n",
    "    #f: integrand\n",
    "    #xq: quadrature nodes\n",
    "    #wq: quadrature weights\n",
    "    #@: notation for matrix multiplication\n",
    "    return np.array(wq)@f(np.array(xq))\n",
    "    \n",
    "xq = [0, 1]\n",
    "wq  =[1/2, 1/2]\n",
    "f = lambda x: np.cos((np.pi/2)*x)\n",
    "\n",
    "QR(f, xq, wq)\n"
   ]
  },
  {
   "cell_type": "code",
   "execution_count": 12,
   "metadata": {},
   "outputs": [
    {
     "data": {
      "text/plain": [
       "0.75"
      ]
     },
     "execution_count": 12,
     "metadata": {},
     "output_type": "execute_result"
    }
   ],
   "source": [
    "#exercise 4 a)\n",
    "def f(x):\n",
    "    return 2 - 2*x\n",
    "\n",
    "def Method (f ,a ,b , N ):\n",
    "    x = np.linspace(a ,b , N + 1)\n",
    "    S = 0\n",
    "    for i in range (N-1):\n",
    "        S = 0.5*(x[i+1] - x[i]) * (f(x[i+1]) + f(x[i]))\n",
    "    return S\n",
    "\n",
    "Method(f, 0, 1, 2)\n"
   ]
  },
  {
   "cell_type": "code",
   "execution_count": 26,
   "metadata": {},
   "outputs": [
    {
     "name": "stdout",
     "output_type": "stream",
     "text": [
      "0\n",
      "x is:  0.3333333333333333\n",
      "y is:  3.3333333333333335\n",
      "0.5555555555555556\n",
      "1\n",
      "x is:  0.3333333333333333\n",
      "y is:  2.0\n",
      "0.3333333333333333\n",
      "2\n",
      "x is:  0.33333333333333337\n",
      "y is:  0.6666666666666667\n",
      "0.11111111111111113\n"
     ]
    },
    {
     "data": {
      "text/plain": [
       "1.0"
      ]
     },
     "execution_count": 26,
     "metadata": {},
     "output_type": "execute_result"
    }
   ],
   "source": [
    "#exercise 4, a) altered version \n",
    "def f(x):\n",
    "    return 2 - 2*x\n",
    "\n",
    "def Method (f ,a ,b , N ):\n",
    "    x = np.linspace(a ,b , N + 1)\n",
    "    S = 0\n",
    "    for i in range(0, N):\n",
    "        S += 0.5 * (x[i+1] - x[i]) * (f(x[i+1]) + f(x[i]))\n",
    "    return S\n",
    "\n",
    "Method(f, 0, 1, 3)"
   ]
  }
 ],
 "metadata": {
  "kernelspec": {
   "display_name": "Python 3",
   "language": "python",
   "name": "python3"
  },
  "language_info": {
   "codemirror_mode": {
    "name": "ipython",
    "version": 3
   },
   "file_extension": ".py",
   "mimetype": "text/x-python",
   "name": "python",
   "nbconvert_exporter": "python",
   "pygments_lexer": "ipython3",
   "version": "3.8.8"
  },
  "orig_nbformat": 4
 },
 "nbformat": 4,
 "nbformat_minor": 2
}
