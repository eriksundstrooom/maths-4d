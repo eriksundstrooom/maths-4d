{
 "cells": [
  {
   "cell_type": "code",
   "execution_count": 1,
   "metadata": {},
   "outputs": [],
   "source": [
    "import numpy as np\n",
    "def QR(f, xq, wq):\n",
    "    #f: integrand\n",
    "    #xq: quadrature nodes\n",
    "    #wq: quadrature weights\n",
    "    #@: notation for matrix multiplication\n",
    "    return np.array(wq)@f(np.array(xq))\n",
    "    \n",
    "xq = [0, 1]\n",
    "wq  =[1/2, 1/2]\n",
    "f = lambda x: np.cos((np.pi/2)*x)\n",
    "\n",
    "QR(f, xq, wq)\n"
   ]
  }
 ],
 "metadata": {
  "kernelspec": {
   "display_name": "Python 3",
   "language": "python",
   "name": "python3"
  },
  "language_info": {
   "codemirror_mode": {
    "name": "ipython",
    "version": 3
   },
   "file_extension": ".py",
   "mimetype": "text/x-python",
   "name": "python",
   "nbconvert_exporter": "python",
   "pygments_lexer": "ipython3",
   "version": "3.8.8"
  },
  "orig_nbformat": 4
 },
 "nbformat": 4,
 "nbformat_minor": 2
}
